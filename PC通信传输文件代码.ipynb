{
 "cells": [
  {
   "cell_type": "code",
   "execution_count": 1,
   "metadata": {},
   "outputs": [],
   "source": [
    "import serial\n",
    "import time"
   ]
  },
  {
   "cell_type": "code",
   "execution_count": 2,
   "metadata": {},
   "outputs": [],
   "source": [
    "#初始化串口\n",
    "port=\"COM1\"\n",
    "byts=115200\n",
    "se=serial.Serial(port,byts)"
   ]
  },
  {
   "cell_type": "code",
   "execution_count": 3,
   "metadata": {},
   "outputs": [],
   "source": [
    "#将信息发给另一台PC的串口助手\n",
    "data1=open(r\"data1.txt\",\"r\")#打开文件，准备输出\n",
    "s=data1.readline() \t      #读取一行\n",
    "while s!='':                       \t#还没有读完时继续循环\n",
    "    se.write(s.encode(\"gbk\"))       #显示文件内容\n",
    "    s=data1.readline()              #读取下一行\n",
    "data1.close() "
   ]
  },
  {
   "cell_type": "code",
   "execution_count": 4,
   "metadata": {},
   "outputs": [
    {
     "name": "stdout",
     "output_type": "stream",
     "text": [
      "The primary reason supporting my stance is that a large proportion of individuals are not aware of the importance of conserving wild animals.\n",
      "It is a fact that many people, be they young or old, have not been taught the knowledge about the protection of wild animals, being unfamiliar with the ways in which the extinction of wildlife will adversely influence the ecosystem and human life.\n",
      "Also, although news reports focus on a range of topics, including politics and the economy, wildlife preservation is always excluded.\n",
      "\n"
     ]
    }
   ],
   "source": [
    "#从串口助手中读取信息并写入文件中\n",
    "data=open(r\"data.txt\",\"w\")\n",
    "wenben=''\n",
    "for i in range(1,4):\n",
    "    u=se.readline().decode(\"gbk\")\n",
    "    wenben+=u\n",
    "    data.write(u)\n",
    "    text=\"句子\"+str(i)+\"已经收到\\r\\n\"\n",
    "    result=se.write(text.encode(\"gbk\"))\n",
    "print(wenben)\n",
    "data.close()\n",
    "se.close()\n"
   ]
  }
 ],
 "metadata": {
  "kernelspec": {
   "display_name": "base",
   "language": "python",
   "name": "python3"
  },
  "language_info": {
   "codemirror_mode": {
    "name": "ipython",
    "version": 3
   },
   "file_extension": ".py",
   "mimetype": "text/x-python",
   "name": "python",
   "nbconvert_exporter": "python",
   "pygments_lexer": "ipython3",
   "version": "3.9.18"
  }
 },
 "nbformat": 4,
 "nbformat_minor": 2
}
