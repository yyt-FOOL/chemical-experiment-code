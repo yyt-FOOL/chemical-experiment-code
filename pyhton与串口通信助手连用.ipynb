{
 "cells": [
  {
   "cell_type": "code",
   "execution_count": 7,
   "metadata": {},
   "outputs": [],
   "source": [
    "import serial\n",
    "import time\n",
    "import matplotlib\n",
    "import matplotlib.pyplot as plt\n",
    "import numpy as np"
   ]
  },
  {
   "cell_type": "code",
   "execution_count": 8,
   "metadata": {},
   "outputs": [
    {
     "name": "stdout",
     "output_type": "stream",
     "text": [
      "1 <class 'int'>\n",
      "写总字节数： 15\n",
      "['3', '61', '61', '218']\n",
      "[['3', '61', '61', '218']]\n",
      "2 <class 'int'>\n",
      "写总字节数： 15\n",
      "['4', '61', '61', '218']\n",
      "[['3', '61', '61', '218'], ['4', '61', '61', '218']]\n",
      "3 <class 'int'>\n",
      "写总字节数： 15\n",
      "['7', '61', '61', '218']\n",
      "[['3', '61', '61', '218'], ['4', '61', '61', '218'], ['7', '61', '61', '218']]\n",
      "4 <class 'int'>\n",
      "写总字节数： 15\n",
      "['16', '61', '61', '218']\n",
      "[['3', '61', '61', '218'], ['4', '61', '61', '218'], ['7', '61', '61', '218'], ['16', '61', '61', '218']]\n",
      "5 <class 'int'>\n",
      "写总字节数： 15\n",
      "['16', '61', '61', '218']\n",
      "[['3', '61', '61', '218'], ['4', '61', '61', '218'], ['7', '61', '61', '218'], ['16', '61', '61', '218'], ['16', '61', '61', '218']]\n",
      "6 <class 'int'>\n",
      "写总字节数： 15\n",
      "['11', '61', '61', '218']\n",
      "[['3', '61', '61', '218'], ['4', '61', '61', '218'], ['7', '61', '61', '218'], ['16', '61', '61', '218'], ['16', '61', '61', '218'], ['11', '61', '61', '218']]\n",
      "7 <class 'int'>\n",
      "写总字节数： 15\n",
      "['15', '61', '61', '218']\n",
      "[['3', '61', '61', '218'], ['4', '61', '61', '218'], ['7', '61', '61', '218'], ['16', '61', '61', '218'], ['16', '61', '61', '218'], ['11', '61', '61', '218'], ['15', '61', '61', '218']]\n",
      "8 <class 'int'>\n",
      "写总字节数： 15\n",
      "['12', '61', '61', '218']\n",
      "[['3', '61', '61', '218'], ['4', '61', '61', '218'], ['7', '61', '61', '218'], ['16', '61', '61', '218'], ['16', '61', '61', '218'], ['11', '61', '61', '218'], ['15', '61', '61', '218'], ['12', '61', '61', '218']]\n",
      "9 <class 'int'>\n",
      "写总字节数： 15\n",
      "['9', '61', '61', '218']\n",
      "[['3', '61', '61', '218'], ['4', '61', '61', '218'], ['7', '61', '61', '218'], ['16', '61', '61', '218'], ['16', '61', '61', '218'], ['11', '61', '61', '218'], ['15', '61', '61', '218'], ['12', '61', '61', '218'], ['9', '61', '61', '218']]\n",
      "10 <class 'int'>\n",
      "写总字节数： 16\n",
      "['3', '61', '61', '218']\n",
      "[['3', '61', '61', '218'], ['4', '61', '61', '218'], ['7', '61', '61', '218'], ['16', '61', '61', '218'], ['16', '61', '61', '218'], ['11', '61', '61', '218'], ['15', '61', '61', '218'], ['12', '61', '61', '218'], ['9', '61', '61', '218'], ['3', '61', '61', '218']]\n",
      "3\n",
      "4\n",
      "7\n",
      "16\n",
      "16\n",
      "11\n",
      "15\n",
      "12\n",
      "9\n",
      "3\n",
      "ok\n"
     ]
    },
    {
     "data": {
      "image/png": "[encoded data removed]",
      "text/plain": [
       "<Figure size 640x480 with 1 Axes>"
      ]
     },
     "metadata": {},
     "output_type": "display_data"
    }
   ],
   "source": [
    "NO=['']\n",
    "n=0\n",
    "s=True\n",
    "POWER_DATA=[]\n",
    "while s:\n",
    "    portx=\"COM1\"\n",
    "    #波特率，标准值之一：50，75，110，134，150，200，300，600，1200，1800，2400\n",
    "    bps=115200\n",
    "    #超时设置，None：永远等待操作，0为立即返回请求结果，其他值为等待超时\n",
    "    timex=1\n",
    "    #打开串口，并得到串口对象\n",
    "    ser=serial.Serial(portx,bps,timeout=timex)\n",
    "    data1=ser.readline().decode(\"gbk\")\n",
    "    if data1 !='':\n",
    "        #读一个字节//read.hex()\n",
    "        n+=1\n",
    "        print(n,type(n))\n",
    "        text=\"数据\"+str(n)+\"已经收到\\r\\n\"\n",
    "        result=ser.write(text.encode(\"gbk\"))\n",
    "        print(\"写总字节数：\",result)\n",
    "        data1=data1.rstrip('\\r\\n')\n",
    "        data=data1.split(',')\n",
    "        print(data)\n",
    "        POWER_DATA.append(data)\n",
    "        print(POWER_DATA)\n",
    "        if n==10:\n",
    "            s=0\n",
    "            #POWER_DATA.clear()\n",
    "            #print(POWER_DATA)\n",
    "    ser.close() #关闭串口\n",
    "\n",
    "    time.sleep(0.1)\n",
    "#其他常用操作\n",
    "#print(ser.read()) 读一个字节\n",
    "#print(ser.read(10).decode(\"gbk\"))读十个字节\n",
    "#print(ser.readline().decode(\"gbk\"))读一行\n",
    "#print(ser.readlines())#读取多行，返回列表，必须匹配超时timeout使用\n",
    "#print(ser.in_waiting)#获取输入缓冲区的剩余字节数\n",
    "#print(ser.out_waiting)#获取输出缓冲区的字节数\n",
    "def draw(a):\n",
    "    y=[]\n",
    "    for i in a:\n",
    "        print(i[0])#选取每组数据的第一列\n",
    "        y.append(i[0])\n",
    "    #print(type(i[0]))\n",
    "\n",
    "    x=np.linspace(1,10,10,endpoint=True)\n",
    "    plt.plot(np.array(x),np.array(y))\n",
    "    print('ok')\n",
    "    plt.show()\n",
    "draw(POWER_DATA)"
   ]
  }
 ],
 "metadata": {
  "kernelspec": {
   "display_name": "base",
   "language": "python",
   "name": "python3"
  },
  "language_info": {
   "codemirror_mode": {
    "name": "ipython",
    "version": 3
   },
   "file_extension": ".py",
   "mimetype": "text/x-python",
   "name": "python",
   "nbconvert_exporter": "python",
   "pygments_lexer": "ipython3",
   "version": "3.9.18"
  }
 },
 "nbformat": 4,
 "nbformat_minor": 2
}
