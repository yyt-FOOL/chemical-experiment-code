{
 "cells": [
  {
   "cell_type": "code",
   "execution_count": 1,
   "metadata": {},
   "outputs": [],
   "source": [
    "from serial import Serial\n",
    "from serial import SerialException\n",
    "import time\n",
    "import modbus_crc\n",
    "ser=Serial(port='COM4', baudrate=250000)\n",
    "gocode=\"G90\"\n",
    "ser.write(gocode.encode())\n",
    "se=Serial(port='COM13', baudrate=9600)"
   ]
  },
  {
   "cell_type": "code",
   "execution_count": 2,
   "metadata": {},
   "outputs": [],
   "source": [
    "#初始化三轴和注射泵\n",
    "#gcode= \"G28 X0 Y0 Z20\"  # 例如，发送G28命令使打印机归位(Z的大小视情况而定)\n",
    "#ser.write(gcode.encode())\n",
    "#time.sleep(1)\n",
    "#gcode =\"G21\"  # 设置单位为毫米\n",
    "#ser.write(gcode.encode())\n",
    "#time.sleep(1)\n"
   ]
  },
  {
   "cell_type": "code",
   "execution_count": 2,
   "metadata": {},
   "outputs": [],
   "source": [
    "def move_to_destination(x,y,z):\n",
    "    ser.flushInput()\n",
    "    data_to_send=f\"G00 X{x} Y{y} Z{z}\\n\"\n",
    "    ser.write(data_to_send.encode())\n",
    "def return_home():\n",
    "    data_to_send=\"G28 X0 Y0 Z0\"\n",
    "    time.sleep(1)\n",
    "    ser.write(data_to_send.encode())\n",
    "def read_information():\n",
    "    while True:\n",
    "        try:\n",
    "            # 读取一行数据\n",
    "            line = ser.read(15).decode().strip()\n",
    "            if line:  # 如果接收到了数据\n",
    "                print(\"Received:\", line)\n",
    "                return 1\n",
    "                break  # 读取到数据后退出循环\n",
    "            else:\n",
    "                time.sleep(0.1)  # 稍作延时，避免CPU占用过高\n",
    "        except SerialException as e:\n",
    "            print(\"Serial error:\", e)\n",
    "            return 0\n",
    "            break  # 如果串口发生错误，退出循环\n",
    "            \n",
    "def add_crc(data):\n",
    "        data_to_send=data+bytes(modbus_crc.crc16(data))\n",
    "        return data_to_send\n",
    "def transform_distance(distance,data_distance):\n",
    "    data_distance.append(distance//256)\n",
    "    data_distance.append(distance%256)\n",
    "    data_distance_to_send=add_crc(bytes(data_distance))\n",
    "    return data_distance_to_send\n",
    "def chouqu(se):\n",
    "    se.flushInput()\n",
    "    distance_=eval(input(\"请输入抽取体积(250代表2ml)：\"))\n",
    "    data_distance=[0x03,0x06,0x00,0x07]\n",
    "    data_distance_to_send=transform_distance(distance_,data_distance)\n",
    "    se.write(data_distance_to_send)\n",
    "    time.sleep(1)\n",
    "    data_speed=[0x03,0x06,0x00,0x05,0x00,0xFF]\n",
    "    data_speed_to_send=add_crc(bytes(data_speed))\n",
    "    se.write(data_speed_to_send)\n",
    "    time.sleep(1)\n",
    "    data_zhengzhuan=[0x03,0x06,0x00,0x00,0x00,0x01]\n",
    "    data_zhengzhuan_to_send=add_crc(bytes(data_zhengzhuan))\n",
    "    se.write(bytes(data_zhengzhuan_to_send))\n",
    "def zhushe(se):\n",
    "    distance_=eval(input(\"请输入注射体积(250代表2ml)：\"))\n",
    "    data_distance=[0x03,0x06,0x00,0x07]\n",
    "    data_distance_to_send=transform_distance(distance_,data_distance)\n",
    "    se.write(data_distance_to_send)\n",
    "    time.sleep(1)\n",
    "    data_speed=[0x03,0x06,0x00,0x05,0x00,0xFF]\n",
    "    data_speed_to_send=add_crc(bytes(data_speed))\n",
    "    se.write(data_speed_to_send)\n",
    "    time.sleep(1)\n",
    "    se.flushInput()\n",
    "    data_fanzhuan=[0x03,0x06,0x00,0x01,0x00,0x01]\n",
    "    data_fanzhuan_to_send=add_crc(bytes(data_fanzhuan))\n",
    "    se.write(bytes(data_fanzhuan_to_send))\n",
    "def main():\n",
    "    x=input(\"请输入x方向移动距离(mm):\")\n",
    "    y=input(\"请输入y方向移动距离(mm):\")\n",
    "    z=input(\"请输入z方向移动距离(mm):\")\n",
    "    move_to_destination(x,y,z)\n"
   ]
  },
  {
   "cell_type": "code",
   "execution_count": 4,
   "metadata": {},
   "outputs": [],
   "source": [
    "main()#移动到指定移液位置的上方"
   ]
  },
  {
   "cell_type": "code",
   "execution_count": 5,
   "metadata": {},
   "outputs": [],
   "source": [
    "chouqu(se)"
   ]
  },
  {
   "cell_type": "code",
   "execution_count": 6,
   "metadata": {},
   "outputs": [],
   "source": [
    "zhushe(se)"
   ]
  },
  {
   "cell_type": "code",
   "execution_count": 7,
   "metadata": {},
   "outputs": [],
   "source": [
    "main()#将枪头伸入离心管中\n",
    "if read_information():#回读信息\n",
    "    chouqu(se)\n",
    "main()#回到指定移液位置的上方\n",
    "return_home()"
   ]
  }
 ],
 "metadata": {
  "kernelspec": {
   "display_name": "Python 3",
   "language": "python",
   "name": "python3"
  },
  "language_info": {
   "codemirror_mode": {
    "name": "ipython",
    "version": 3
   },
   "file_extension": ".py",
   "mimetype": "text/x-python",
   "name": "python",
   "nbconvert_exporter": "python",
   "pygments_lexer": "ipython3",
   "version": "3.9.1"
  }
 },
 "nbformat": 4,
 "nbformat_minor": 2
}
