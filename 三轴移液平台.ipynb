{
 "cells": [
  {
   "cell_type": "code",
   "execution_count": 1,
   "metadata": {},
   "outputs": [],
   "source": [
    "#初始化创口，并使三轴回到初始位置\n",
    "from serial import Serial\n",
    "from serial import SerialException\n",
    "import time\n",
    "ser = Serial(port='COM4', baudrate=250000,timeout=1)\n",
    "#set_units_to_mm = \"G21\"\n",
    "#ser.write(set_units_to_mm.encode())\n",
    "#time.sleep(1)\n",
    "#gcode = \"G28\"  # 例如，发送G28命令使打印机归位\n",
    "#ser.write(gcode.encode())"
   ]
  },
  {
   "cell_type": "code",
   "execution_count": 2,
   "metadata": {},
   "outputs": [],
   "source": [
    "def move_to_destination(x,y,z):\n",
    "    ser.flushInput()\n",
    "    data_to_send=f\"G00 X{x} Y{y} Z{z}\\n\"\n",
    "    ser.write(data_to_send.encode())\n",
    "def read_information():\n",
    "    while True:\n",
    "        try:\n",
    "            # 读取一行数据\n",
    "            line = ser.read(15).decode().strip()\n",
    "            if line!=\"ok\":  # 如果接收到了数据\n",
    "                time.sleep(0.1)\n",
    "                  # 读取到数据后退出循环\n",
    "            else:\n",
    "                print(\"received:\",line)\n",
    "                break\n",
    "                  # 稍作延时，避免CPU占用过高\n",
    "        except SerialException as e:\n",
    "            print(\"Serial error:\", e)\n",
    "            break  # 如果串口发生错误，退出循环\n",
    "def stop_to_move():\n",
    "    data_to_send=\"M84\"\n",
    "    ser.write(data_to_send.encode())\n",
    "def main():\n",
    "    x=input(\"请输入x方向移动距离(mm):\")\n",
    "    y=input(\"请输入y方向移动距离(mm):\")\n",
    "    z=input(\"请输入z方向移动距离(mm):\")\n",
    "    move_to_destination(x,y,z)\n",
    "    ser.flushInput()\n",
    "    read_information()\n"
   ]
  },
  {
   "cell_type": "code",
   "execution_count": 3,
   "metadata": {},
   "outputs": [
    {
     "name": "stdout",
     "output_type": "stream",
     "text": [
      "received: ok\n"
     ]
    }
   ],
   "source": [
    "main()"
   ]
  },
  {
   "cell_type": "code",
   "execution_count": 4,
   "metadata": {},
   "outputs": [],
   "source": [
    "#如果需要紧急停止移液，请调用该函数\n",
    "#stop_to_move()"
   ]
  }
 ],
 "metadata": {
  "kernelspec": {
   "display_name": "Python 3",
   "language": "python",
   "name": "python3"
  },
  "language_info": {
   "codemirror_mode": {
    "name": "ipython",
    "version": 3
   },
   "file_extension": ".py",
   "mimetype": "text/x-python",
   "name": "python",
   "nbconvert_exporter": "python",
   "pygments_lexer": "ipython3",
   "version": "3.9.1"
  }
 },
 "nbformat": 4,
 "nbformat_minor": 2
}
