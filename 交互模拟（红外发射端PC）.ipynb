{
 "cells": [
  {
   "cell_type": "code",
   "execution_count": null,
   "metadata": {},
   "outputs": [],
   "source": [
    "import serial\n",
    "import time"
   ]
  },
  {
   "cell_type": "code",
   "execution_count": null,
   "metadata": {},
   "outputs": [],
   "source": [
    "#初始化与红外串口信息\n",
    "port=\"COM1\"\n",
    "byts=9600\n",
    "s=serial.Serial(port,byts)"
   ]
  },
  {
   "cell_type": "code",
   "execution_count": null,
   "metadata": {},
   "outputs": [],
   "source": [
    "#通过PC控制红外遥控，发射红外信号远程遥控另一台PC打开继电器\n",
    "s.flushInput()\n",
    "signal_to_send=[0xA1,0XF1,0x1C,0x2F,0x33]\n",
    "s.write(bytes(signal_to_send))\n",
    "time.sleep(2)"
   ]
  },
  {
   "cell_type": "code",
   "execution_count": null,
   "metadata": {},
   "outputs": [],
   "source": [
    "#通过PC控制红外遥控，发射红外信号远程遥控另一台关闭打开继电器\n",
    "s.flushInput()\n",
    "signal_to_send=[0xA1,0XF1,0x1C,0x2F,0x33]\n",
    "s.write(bytes(signal_to_send))\n",
    "time.sleep(2)"
   ]
  },
  {
   "cell_type": "code",
   "execution_count": null,
   "metadata": {},
   "outputs": [],
   "source": [
    "#关闭串口\n",
    "s.flushInput()\n",
    "s.close()"
   ]
  }
 ],
 "metadata": {
  "language_info": {
   "name": "python"
  }
 },
 "nbformat": 4,
 "nbformat_minor": 2
}
