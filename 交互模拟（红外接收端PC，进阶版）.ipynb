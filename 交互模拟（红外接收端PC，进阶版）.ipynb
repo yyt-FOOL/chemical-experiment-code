{
 "cells": [
  {
   "cell_type": "code",
   "execution_count": 1,
   "metadata": {},
   "outputs": [],
   "source": [
    "import serial\n",
    "import time"
   ]
  },
  {
   "cell_type": "code",
   "execution_count": 2,
   "metadata": {},
   "outputs": [],
   "source": [
    "#初始化与红外相连的串口信息\n",
    "port=\"COM10\"\n",
    "byts=9600\n",
    "s=serial.Serial(port,byts)\n",
    "#初始化与继电器相连的串口信息\n",
    "port=\"COM9\"\n",
    "byts=9600\n",
    "s1=serial.Serial(port,byts)"
   ]
  },
  {
   "cell_type": "code",
   "execution_count": 3,
   "metadata": {},
   "outputs": [
    {
     "name": "stdout",
     "output_type": "stream",
     "text": [
      "1c\n",
      "ff050000ff0099e4\n",
      "执行命令正常\n",
      "当前继电器状态为:开\n"
     ]
    }
   ],
   "source": [
    "#接收红外信息，并传输给与继电器相连的PC,打开继电器，并读取继电器工作状态\n",
    "infor=s.read(1)#读取第一个字节\n",
    "print(infor.hex())\n",
    "if infor.hex()!=\"\":\n",
    "    #打开继电器\n",
    "    s1.flushInput()\n",
    "    open=[0xFF,0x05,0x00,0x00,0xFF,0x00,0x99,0xE4]\n",
    "    s1.write(bytes(open))\n",
    "    #检查继电器是否执行打开命令\n",
    "    recv=s1.read(8)\n",
    "    recv_hex=recv.hex()\n",
    "    print(recv_hex)\n",
    "    if str(recv_hex)==\"ff050000ff0099e4\":\n",
    "        print(\"执行命令正常\")\n",
    "    else:\n",
    "        print(\"执行命令失误\")\n",
    "    time.sleep(2)\n",
    "    #读取继电器状态\n",
    "    s1.flushInput()\n",
    "    state=[0xFF,0x01,0x00,0x00,0x00,0x08,0x28,0x12]\n",
    "    s1.write(bytes(state))\n",
    "    recv=s1.read(6)\n",
    "    recv_hex=recv.hex()\n",
    "    print(\"当前继电器状态为:{}\".format(\"开\" if recv[3] else '关'))\n",
    "    time.sleep(2)\n",
    "#将继电器执行状态反馈给红外发射端PC\n",
    "if recv.hex()!=\"\":\n",
    "    s.flushInput()\n",
    "    signal_to_send=[0xA1,0XF1,0x1C,0x2F,0x33]\n",
    "    s.write(bytes(signal_to_send))\n",
    "    time.sleep(2)"
   ]
  },
  {
   "cell_type": "code",
   "execution_count": 4,
   "metadata": {},
   "outputs": [
    {
     "name": "stdout",
     "output_type": "stream",
     "text": [
      "1c\n",
      "ff0500000000d814\n",
      "执行命令正常\n",
      "当前继电器状态为:关\n"
     ]
    }
   ],
   "source": [
    "#接收红外信息，并传输给与继电器相连的PC,关闭继电器，并读取继电器工作状态\n",
    "infor=s.read(1)#读取第一个字节\n",
    "print(infor.hex())\n",
    "if infor.hex()!=\"1\":\n",
    "    #关闭继电器\n",
    "    s1.flushInput()\n",
    "    close=[0xFF,0x05,0x00,0x00,0x00,0x00,0xD8,0x14]\n",
    "    s1.write(bytes(close))\n",
    "    #检查继电器是否执行关闭命令\n",
    "    recv=s1.read(8)\n",
    "    recv_hex=recv.hex()\n",
    "    print(recv_hex)\n",
    "    if str(recv_hex)==\"ff0500000000d814\":\n",
    "        print(\"执行命令正常\")\n",
    "    else:\n",
    "        print(\"执行命令失误\")\n",
    "    time.sleep(2)\n",
    "    #将继电器执行状态反馈给红外发射端PC\n",
    "    s.flushInput()\n",
    "    signal_to_send=[0xA1,0XF1,0x1C,0x2F,0x33]\n",
    "    s.write(bytes(signal_to_send))\n",
    "    time.sleep(2)\n",
    "    #读取继电器状态\n",
    "    s1.flushInput()\n",
    "    state=[0xFF,0x01,0x00,0x00,0x00,0x08,0x28,0x12]\n",
    "    s1.write(bytes(state))\n",
    "    recv=s1.read(6)\n",
    "    recv_hex=recv.hex()\n",
    "    print(\"当前继电器状态为:{}\".format(\"开\" if recv[3] else '关'))\n",
    "    time.sleep(2)\n",
    "#将继电器执行状态反馈给红外发射端PC\n",
    "if not recv[3]:\n",
    "    s.flushInput()\n",
    "    signal_to_send=[0xA1,0XF1,0x1C,0x2F,0x33]\n",
    "    s.write(bytes(signal_to_send))\n",
    "    time.sleep(2)"
   ]
  },
  {
   "cell_type": "code",
   "execution_count": 5,
   "metadata": {},
   "outputs": [],
   "source": [
    "#关闭串口\n",
    "s.flushInput()\n",
    "s.close()\n",
    "s1.flushInput()\n",
    "s1.close()"
   ]
  }
 ],
 "metadata": {
  "kernelspec": {
   "display_name": "base",
   "language": "python",
   "name": "python3"
  },
  "language_info": {
   "codemirror_mode": {
    "name": "ipython",
    "version": 3
   },
   "file_extension": ".py",
   "mimetype": "text/x-python",
   "name": "python",
   "nbconvert_exporter": "python",
   "pygments_lexer": "ipython3",
   "version": "3.9.18"
  }
 },
 "nbformat": 4,
 "nbformat_minor": 2
}
