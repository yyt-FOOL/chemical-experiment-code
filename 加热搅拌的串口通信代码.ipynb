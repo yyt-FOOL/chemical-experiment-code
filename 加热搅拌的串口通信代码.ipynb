{
 "cells": [
  {
   "cell_type": "code",
   "execution_count": 1,
   "metadata": {},
   "outputs": [],
   "source": [
    "from struct import pack\n",
    "import serial\n",
    "import time"
   ]
  },
  {
   "cell_type": "code",
   "execution_count": 2,
   "metadata": {},
   "outputs": [],
   "source": [
    "#用于检验传输信号的正确性\n",
    "def sum_byts(data):\n",
    "    #获取累加校验的结果\n",
    "    #传入字节串，返回字节串\n",
    "    #从第二位累加至倒二位，最后一位将被替换为累加的结果\n",
    "    s=0\n",
    "    for i in range(len(data)-2):#对接收到的字节串进行遍历累加求和，扣除第一个和第二个字节\n",
    "        s+=data[i+1]\n",
    "    s=s & 0xFF #用于将一个整数变量 s 的值限制在8个字节\n",
    "    data=data[:-1]+pack('B',s) #去掉原字节串的最后一位，并替换为累加结果\n",
    "    return data\n"
   ]
  },
  {
   "cell_type": "code",
   "execution_count": 3,
   "metadata": {},
   "outputs": [
    {
     "ename": "AttributeError",
     "evalue": "module 'serial' has no attribute 'Serial'",
     "output_type": "error",
     "traceback": [
      "\u001b[1;31m---------------------------------------------------------------------------\u001b[0m",
      "\u001b[1;31mAttributeError\u001b[0m                            Traceback (most recent call last)",
      "Cell \u001b[1;32mIn[3], line 5\u001b[0m\n\u001b[0;32m      3\u001b[0m port\u001b[38;5;241m=\u001b[39m\u001b[38;5;124m\"\u001b[39m\u001b[38;5;124mCOM4\u001b[39m\u001b[38;5;124m\"\u001b[39m\n\u001b[0;32m      4\u001b[0m byte\u001b[38;5;241m=\u001b[39m\u001b[38;5;241m9600\u001b[39m\n\u001b[1;32m----> 5\u001b[0m se\u001b[38;5;241m=\u001b[39m\u001b[43mserial\u001b[49m\u001b[38;5;241;43m.\u001b[39;49m\u001b[43mSerial\u001b[49m(port,byte)\n\u001b[0;32m      6\u001b[0m se\u001b[38;5;241m.\u001b[39mflushInput()\u001b[38;5;66;03m#清空串行端口的输入缓冲区\u001b[39;00m\n\u001b[0;32m      7\u001b[0m \u001b[38;5;66;03m#握手\u001b[39;00m\n",
      "\u001b[1;31mAttributeError\u001b[0m: module 'serial' has no attribute 'Serial'"
     ]
    }
   ],
   "source": [
    "#调整串口\n",
    "#初始化串口\n",
    "port=\"COM4\"\n",
    "byte=9600\n",
    "se=serial.Serial(port,byte)\n",
    "se.flushInput()#清空串行端口的输入缓冲区\n",
    "#握手\n",
    "data_hello=[0xFE,0xA0,0x00,0x00,0x00,0xA0]#编写握手的指令\n",
    "se.write(bytes(data_hello))\n",
    "recv=se.read(6)\n",
    "if recv[2]==0:\n",
    "   print(\"执行握手程序完成\")\n",
    "else:\n",
    "   print(\"握手程序执行错误\")\n",
    "time.sleep(2)\n"
   ]
  },
  {
   "cell_type": "code",
   "execution_count": null,
   "metadata": {},
   "outputs": [
    {
     "name": "stdout",
     "output_type": "stream",
     "text": [
      "fda10001010000f403730d\n",
      "当前搅拌开关为:关\n",
      "当前加热开关为:关\n"
     ]
    }
   ],
   "source": [
    "#读取仪器设置信息\n",
    "se.flushInput()\n",
    "data_set=[0xFE,0xA1,0x00,0x00,0x00,0xA1]\n",
    "se.write(bytes(data_set))\n",
    "recv_set=se.read(11)\n",
    "print(recv_set.hex())\n",
    "print(\"当前搅拌开关为:{}\".format(\"关\" if recv_set[3] else '开'))\n",
    "#获取搅拌开关的工作状态:返回0表示工作状态；返回1表示关闭状态\n",
    "print('当前加热开关为:{}'.format('关' if recv_set[4] else '开'))\n",
    "#获取加热开关的工作状态:返回0表示工作状态；返回1表示关闭状态"
   ]
  },
  {
   "cell_type": "code",
   "execution_count": null,
   "metadata": {},
   "outputs": [
    {
     "name": "stdout",
     "output_type": "stream",
     "text": [
      "fda2012c000001f4027e44\n",
      "当前搅拌设置转速为300,当前搅拌转速为0\n",
      "当前搅拌设置温度为50.0，当前温度为63.8\n"
     ]
    }
   ],
   "source": [
    "#读取仪器状态信息\n",
    "se.flushInput()\n",
    "data_state=[0xFE,0XA2,0X00,0X00,0X00,0XA2]\n",
    "se.write(bytes(data_state))\n",
    "recv_state=se.read(11)\n",
    "print(recv_state.hex())\n",
    "stir_set=recv_state[2]*256+recv_state[3]\n",
    "stir_now=recv_state[4]*256+recv_state[5]\n",
    "tem_set=(recv_state[6]*256+recv_state[7])/10\n",
    "tem_now=(recv_state[8]*256+recv_state[9])/10\n",
    "print('当前搅拌设置转速为{},当前搅拌转速为{}'.format(stir_set,stir_now))\n",
    "print('当前搅拌设置温度为{}，当前温度为{}'.format(tem_set,tem_now))\n",
    "time.sleep(2)#程序暂停2秒"
   ]
  },
  {
   "cell_type": "code",
   "execution_count": null,
   "metadata": {},
   "outputs": [
    {
     "name": "stdout",
     "output_type": "stream",
     "text": [
      "设置搅拌转速为300\n",
      "fdb1000000b1\n",
      "执行正确\n"
     ]
    }
   ],
   "source": [
    "#设置设备搅拌转速\n",
    "se.flushInput()\n",
    "data_stir=[0xFE,0xB1,0x00,0x00,0x00,0xB1]\n",
    "stir=300\n",
    "#设置转速为300转，将转速转为两个十六进制字节结合，第一个字节为转速除以256取整，第二个字节为转速除以256求余，然后重新计算校验\n",
    "print(f'设置搅拌转速为{stir}')\n",
    "data_stir[2]=stir//256\n",
    "data_stir[3]=stir%256\n",
    "se.write(sum_byts(bytes(data_stir)))\n",
    "recv_stir=se.read(6)\n",
    "print(recv_stir.hex())#将字节以十六进制的形式打印出来\n",
    "if recv_stir[2]==0:\n",
    "    print(\"执行正确\")\n",
    "else:\n",
    "    print(\"执行错误\")\n",
    "time.sleep(2)\n"
   ]
  },
  {
   "cell_type": "code",
   "execution_count": null,
   "metadata": {},
   "outputs": [
    {
     "name": "stdout",
     "output_type": "stream",
     "text": [
      "设置搅拌温度为50\n",
      "执行正确\n",
      "fdb2000000b2\n"
     ]
    }
   ],
   "source": [
    "#设置设备搅拌温度\n",
    "se.flushInput()\n",
    "data_temp=[0xFE,0XB2,0X00,0X00,0X00,0XB2]\n",
    "temp=50\n",
    "#设置转速为50度，将温度转为两个十六进制字节结合，第一个字节为转速除以256取整，第二个字节为转速除以256求余，然后重新计算校验\n",
    "print(f'设置搅拌温度为{temp}')\n",
    "data_temp[2]=temp*10//256\n",
    "data_temp[3]=temp*10%256\n",
    "se.write(sum_byts(bytes(data_temp)))\n",
    "recv_temp=se.read(6)\n",
    "if recv_temp[2]==0:\n",
    "    print(\"执行正确\")\n",
    "else:\n",
    "    print(\"执行错误\")\n",
    "print(recv_temp.hex())#将字节以十六进制的形式打印出来\n",
    "time.sleep(2)\n"
   ]
  },
  {
   "cell_type": "code",
   "execution_count": null,
   "metadata": {},
   "outputs": [
    {
     "name": "stdout",
     "output_type": "stream",
     "text": [
      "fda10000000000f4027e15\n",
      "当前搅拌开关为:开\n",
      "当前加热开关为:开\n"
     ]
    }
   ],
   "source": [
    "#读取设备开关状态\n",
    "se.flushInput()\n",
    "data_set=[0xFE,0XA1,0X00,0X00,0x00,0XA1]\n",
    "se.write(bytes(data_set))\n",
    "recv_set=se.read(11)\n",
    "print(recv_set.hex())\n",
    "print(\"当前搅拌开关为:{}\".format(\"关\" if recv_set[3] else '开'))\n",
    "#获取搅拌开关的工作状态:返回0表示工作状态；返回1表示关闭状态\n",
    "print('当前加热开关为:{}'.format('关' if recv_set[4] else '开'))\n",
    "#获取加热开关的工作状态:返回0表示工作状态；返回1表示关闭状态\n",
    "time.sleep(2)"
   ]
  },
  {
   "cell_type": "code",
   "execution_count": null,
   "metadata": {},
   "outputs": [
    {
     "name": "stdout",
     "output_type": "stream",
     "text": [
      "fda2012c012301f4027761\n",
      "当前搅拌设置转速为300,当前搅拌转速为291\n",
      "当前搅拌设置温度为50.0，当前温度为63.1\n"
     ]
    }
   ],
   "source": [
    "#读取设备设置状态\n",
    "se.flushInput()\n",
    "data_state=[0xFE,0XA2,0X00,0X00,0X00,0XA2]\n",
    "se.write(bytes(data_state))\n",
    "recv_state=se.read(11)\n",
    "print(recv_state.hex())\n",
    "stir_set=recv_state[2]*256+recv_state[3]\n",
    "stir_now=recv_state[4]*256+recv_state[5]\n",
    "tem_set=(recv_state[6]*256+recv_state[7])/10\n",
    "tem_now=(recv_state[8]*256+recv_state[9])/10\n",
    "print('当前搅拌设置转速为{},当前搅拌转速为{}'.format(stir_set,stir_now))\n",
    "print('当前搅拌设置温度为{}，当前温度为{}'.format(tem_set,tem_now))\n",
    "time.sleep(2)"
   ]
  },
  {
   "cell_type": "code",
   "execution_count": null,
   "metadata": {},
   "outputs": [],
   "source": [
    "#关闭串口\n",
    "se.flushInput()\n",
    "se.close()"
   ]
  }
 ],
 "metadata": {
  "kernelspec": {
   "display_name": "base",
   "language": "python",
   "name": "python3"
  },
  "language_info": {
   "codemirror_mode": {
    "name": "ipython",
    "version": 3
   },
   "file_extension": ".py",
   "mimetype": "text/x-python",
   "name": "python",
   "nbconvert_exporter": "python",
   "pygments_lexer": "ipython3",
   "version": "3.9.1"
  }
 },
 "nbformat": 4,
 "nbformat_minor": 2
}
