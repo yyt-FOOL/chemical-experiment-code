{
 "cells": [
  {
   "cell_type": "code",
   "execution_count": 1,
   "metadata": {},
   "outputs": [],
   "source": [
    "import time \n",
    "import serial\n",
    "from struct import pack"
   ]
  },
  {
   "cell_type": "code",
   "execution_count": 2,
   "metadata": {},
   "outputs": [],
   "source": [
    "#指示舵机转动固定角度\n",
    "def main():\n",
    "    #初始化串口\n",
    "    com=input()\n",
    "    port=eval(input())\n",
    "    s=serial.Serial(com,port)\n",
    "    angle=int(input(\"请输入0-240度任一角度:\"))\n",
    "    time=int(input(\"请输入0-30s任一时间：\"))\n",
    "    data_angle_time=[0x55,0x55,0x00,0x07,0x01,0x00,0x00,0x00,0x00,0x00]\n",
    "    s.flushInput()\n",
    "    s.write(checksum(bytes(transform_angle_time(angle,time,data_angle_time))))\n",
    "def transform_angle_time(angle,time,data_angle_time):\n",
    "    angle_=int(angle/0.24)\n",
    "    data_angle_time[5]=angle_%256\n",
    "    data_angle_time[6]=angle_//256\n",
    "    time_=time*1000\n",
    "    data_angle_time[7]=time_%256\n",
    "    data_angle_time[8]=time_//256\n",
    "    return data_angle_time\n",
    "def checksum(data):\n",
    "    #获取累加校验的结果\n",
    "    #传入字节串，返回字节串\n",
    "    #从第二位累加至倒二位，最后一位将被替换为累加的结果\n",
    "    s=0\n",
    "    for i in data[2:-1]:\n",
    "        s+=i\n",
    "        s=s%256#用于将一个整数变量 s 的值限制在8个字节\n",
    "        checksum = ~s & 0xFF\n",
    "        data=data[:-1]+pack('B',checksum) #去掉原字节串的最后一位，并替换为累加结果\n",
    "    return data\n",
    "main()"
   ]
  },
  {
   "cell_type": "code",
   "execution_count": null,
   "metadata": {},
   "outputs": [],
   "source": []
  }
 ],
 "metadata": {
  "kernelspec": {
   "display_name": "Python 3",
   "language": "python",
   "name": "python3"
  },
  "language_info": {
   "codemirror_mode": {
    "name": "ipython",
    "version": 3
   },
   "file_extension": ".py",
   "mimetype": "text/x-python",
   "name": "python",
   "nbconvert_exporter": "python",
   "pygments_lexer": "ipython3",
   "version": "3.9.18"
  }
 },
 "nbformat": 4,
 "nbformat_minor": 2
}
