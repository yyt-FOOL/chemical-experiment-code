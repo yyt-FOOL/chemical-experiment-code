{
 "cells": [
  {
   "cell_type": "code",
   "execution_count": 1,
   "metadata": {},
   "outputs": [],
   "source": [
    "import time \n",
    "import serial"
   ]
  },
  {
   "cell_type": "code",
   "execution_count": 2,
   "metadata": {},
   "outputs": [],
   "source": [
    "def transform_angle_time(angle,angle1,time,data_angle_time):\n",
    "    angle=int(angle/0.24)\n",
    "    angle1=int(angle1/0.24)\n",
    "    time=time*1000\n",
    "    data_angle_time[8]=angle%256\n",
    "    data_angle_time[9]=angle//256\n",
    "    data_angle_time[11]=angle1%256\n",
    "    data_angle_time[12]=angle1//256\n",
    "    data_angle_time[5]=time%256\n",
    "    data_angle_time[6]=time//256\n",
    "    return data_angle_time\n",
    "def main():\n",
    "    #初始化串口\n",
    "    com=input(\"请输入串口号：\")\n",
    "    port=eval(input(\"请输入设定的波特率：\"))\n",
    "    s=serial.Serial(com,port)\n",
    "    angle=int(input(\"俯仰角(请输入0-240度任一角度):\"))\n",
    "    angle1=int(input(\"水平角(请输入0-240度任一角度):\"))\n",
    "    time=int(input(\"请输入0-30s任一时间:\"))\n",
    "    data_angle_time=[0x55,0x55,0x0B,0x03,0x02,0x00,0x00,0x01,0x00,0x00,0x02,0x00,0x00]\n",
    "    s.flushInput()\n",
    "    s.write((bytes(transform_angle_time(angle,angle1,time,data_angle_time))))\n",
    "main()"
   ]
  }
 ],
 "metadata": {
  "kernelspec": {
   "display_name": "base",
   "language": "python",
   "name": "python3"
  },
  "language_info": {
   "codemirror_mode": {
    "name": "ipython",
    "version": 3
   },
   "file_extension": ".py",
   "mimetype": "text/x-python",
   "name": "python",
   "nbconvert_exporter": "python",
   "pygments_lexer": "ipython3",
   "version": "3.9.18"
  }
 },
 "nbformat": 4,
 "nbformat_minor": 2
}
