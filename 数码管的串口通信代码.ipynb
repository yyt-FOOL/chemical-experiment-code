{
 "cells": [
  {
   "cell_type": "code",
   "execution_count": 1,
   "metadata": {},
   "outputs": [],
   "source": [
    "import serial\n",
    "import time\n",
    "from datetime import datetime\n",
    "import itertools"
   ]
  },
  {
   "cell_type": "code",
   "execution_count": 2,
   "metadata": {},
   "outputs": [],
   "source": [
    "#初始化串口信息\n",
    "port=\"COM3\"\n",
    "byts=9600\n",
    "s=serial.Serial(port,byts)"
   ]
  },
  {
   "cell_type": "code",
   "execution_count": 3,
   "metadata": {},
   "outputs": [
    {
     "name": "stdout",
     "output_type": "stream",
     "text": [
      "当前日期为：03-20\n",
      "当前时间为：16:41\n"
     ]
    }
   ],
   "source": [
    "#从PC上获取实时信息\n",
    "d_t=datetime.now()\n",
    "d=d_t.date()\n",
    "t=d_t.time()\n",
    "d=str(d)[-5::]\n",
    "t=str(t)[0:5]\n",
    "print(f\"当前日期为：{d}\")\n",
    "print(f\"当前时间为：{t}\")"
   ]
  },
  {
   "cell_type": "code",
   "execution_count": 4,
   "metadata": {},
   "outputs": [
    {
     "name": "stdout",
     "output_type": "stream",
     "text": [
      "[1, 16, 0, 112, 0, 3, 5, 48, 51, 45, 50, 48, 1, 123]\n",
      "[1, 16, 0, 112, 0, 3, 5, 49, 54, 58, 52, 49, 1, 143]\n",
      "['0x1', '0x10', '0x0', '0x70', '0x0', '0x3', '0x5', '0x30', '0x33', '0x2d', '0x32', '0x30', '0x1', '0x7b']\n",
      "['0x1', '0x10', '0x0', '0x70', '0x0', '0x3', '0x5', '0x31', '0x36', '0x3a', '0x34', '0x31', '0x1', '0x8f']\n"
     ]
    }
   ],
   "source": [
    "#准备要发送的信息\n",
    "def str_to_hex(a):\n",
    "    result=[]\n",
    "    for i in a:\n",
    "        ASCII_num=ord(i)\n",
    "        result.append(eval(hex(ASCII_num)))\n",
    "    result=list(map(int,result))\n",
    "    return result\n",
    "def data_to_send(x,y):\n",
    "    combined_list = list(itertools.chain(x,y))\n",
    "    return combined_list\n",
    "def sum_byts(a):\n",
    "    S=sum(a)\n",
    "    S1=S//256\n",
    "    S2=S%256\n",
    "    a.append(S1)\n",
    "    a.append(S2)\n",
    "    return a\n",
    "qianzhui=[0x01,0x10,0x00,0x70,0x00,0x03,0x05]#前缀的最后以为表示字节数\n",
    "date=sum_byts(data_to_send(qianzhui,str_to_hex(d)))\n",
    "time_=sum_byts(data_to_send(qianzhui,str_to_hex(t)))\n",
    "print(date)\n",
    "print(time_)\n",
    "print(list(map(hex,date)))\n",
    "print(list(map(hex,time_)))"
   ]
  },
  {
   "cell_type": "code",
   "execution_count": 5,
   "metadata": {},
   "outputs": [
    {
     "name": "stdout",
     "output_type": "stream",
     "text": [
      "[1, 16, 0, 148, 0, 2, 5, 0, 15, 0, 32, 0, 219]\n"
     ]
    }
   ],
   "source": [
    "#将实时日期和时间发送给数码管\n",
    "s.flushInput()\n",
    "time_space=[0x01,0x10,0x00,0x94,0x00,0x02,0x05,0x00,0x0f,0x00,0x20]#将5位数据一起周期性闪烁2秒\n",
    "time_space=sum_byts(time_space)\n",
    "s.write(bytes(date))\n",
    "print(time_space)\n",
    "while 1:\n",
    "    s.write(bytes(date))\n",
    "    s.write(bytes(time_space))\n",
    "    time.sleep(2)\n",
    "    s.write(bytes(time_))\n",
    "    s.write(bytes(time_space))\n",
    "    time.sleep(2)\n",
    "s.close()"
   ]
  },
  {
   "cell_type": "code",
   "execution_count": 5,
   "metadata": {},
   "outputs": [],
   "source": [
    "s.write(bytes(date))\n",
    "time.sleep(2)"
   ]
  },
  {
   "cell_type": "code",
   "execution_count": null,
   "metadata": {},
   "outputs": [],
   "source": []
  }
 ],
 "metadata": {
  "kernelspec": {
   "display_name": "base",
   "language": "python",
   "name": "python3"
  },
  "language_info": {
   "codemirror_mode": {
    "name": "ipython",
    "version": 3
   },
   "file_extension": ".py",
   "mimetype": "text/x-python",
   "name": "python",
   "nbconvert_exporter": "python",
   "pygments_lexer": "ipython3",
   "version": "3.9.18"
  }
 },
 "nbformat": 4,
 "nbformat_minor": 2
}
