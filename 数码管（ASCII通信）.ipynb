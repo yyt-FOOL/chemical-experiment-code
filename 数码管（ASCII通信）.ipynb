{
 "cells": [
  {
   "cell_type": "code",
   "execution_count": 5,
   "metadata": {},
   "outputs": [
    {
     "ename": "SerialException",
     "evalue": "WriteFile failed (PermissionError(13, '拒绝访问。', None, 5))",
     "output_type": "error",
     "traceback": [
      "\u001b[1;31m---------------------------------------------------------------------------\u001b[0m",
      "\u001b[1;31mSerialException\u001b[0m                           Traceback (most recent call last)",
      "Cell \u001b[1;32mIn[5], line 30\u001b[0m\n\u001b[0;32m     27\u001b[0m send_command(\u001b[38;5;124m\"\u001b[39m\u001b[38;5;124m$001,\u001b[39m\u001b[38;5;124m\"\u001b[39m \u001b[38;5;241m+\u001b[39m date_str \u001b[38;5;241m+\u001b[39m \u001b[38;5;124m\"\u001b[39m\u001b[38;5;124m#\u001b[39m\u001b[38;5;124m\"\u001b[39m)\n\u001b[0;32m     28\u001b[0m time\u001b[38;5;241m.\u001b[39msleep(\u001b[38;5;241m2\u001b[39m)  \u001b[38;5;66;03m# 等待2秒\u001b[39;00m\n\u001b[1;32m---> 30\u001b[0m \u001b[43msend_command\u001b[49m\u001b[43m(\u001b[49m\u001b[38;5;124;43m\"\u001b[39;49m\u001b[38;5;124;43m$001,#\u001b[39;49m\u001b[38;5;124;43m\"\u001b[39;49m\u001b[43m)\u001b[49m  \u001b[38;5;66;03m# 清空显示\u001b[39;00m\n\u001b[0;32m     31\u001b[0m time\u001b[38;5;241m.\u001b[39msleep(\u001b[38;5;241m0.1\u001b[39m)  \u001b[38;5;66;03m# 等待0.1秒\u001b[39;00m\n\u001b[0;32m     33\u001b[0m send_command(\u001b[38;5;124m\"\u001b[39m\u001b[38;5;124m$001,\u001b[39m\u001b[38;5;124m\"\u001b[39m \u001b[38;5;241m+\u001b[39m time_str \u001b[38;5;241m+\u001b[39m \u001b[38;5;124m\"\u001b[39m\u001b[38;5;124m#\u001b[39m\u001b[38;5;124m\"\u001b[39m)\n",
      "Cell \u001b[1;32mIn[5], line 15\u001b[0m, in \u001b[0;36msend_command\u001b[1;34m(command)\u001b[0m\n\u001b[0;32m     13\u001b[0m \u001b[38;5;28;01mdef\u001b[39;00m \u001b[38;5;21msend_command\u001b[39m(command):\n\u001b[0;32m     14\u001b[0m     \u001b[38;5;66;03m# 发送命令到数码板\u001b[39;00m\n\u001b[1;32m---> 15\u001b[0m     \u001b[43mser\u001b[49m\u001b[38;5;241;43m.\u001b[39;49m\u001b[43mwrite\u001b[49m\u001b[43m(\u001b[49m\u001b[43mcommand\u001b[49m\u001b[38;5;241;43m.\u001b[39;49m\u001b[43mencode\u001b[49m\u001b[43m(\u001b[49m\u001b[43m)\u001b[49m\u001b[43m)\u001b[49m\n",
      "File \u001b[1;32mc:\\ProgramData\\Miniconda3\\lib\\site-packages\\serial\\serialwin32.py:317\u001b[0m, in \u001b[0;36mSerial.write\u001b[1;34m(self, data)\u001b[0m\n\u001b[0;32m    315\u001b[0m \u001b[38;5;28;01mif\u001b[39;00m \u001b[38;5;28mself\u001b[39m\u001b[38;5;241m.\u001b[39m_write_timeout \u001b[38;5;241m!=\u001b[39m \u001b[38;5;241m0\u001b[39m:  \u001b[38;5;66;03m# if blocking (None) or w/ write timeout (>0)\u001b[39;00m\n\u001b[0;32m    316\u001b[0m     \u001b[38;5;28;01mif\u001b[39;00m \u001b[38;5;129;01mnot\u001b[39;00m success \u001b[38;5;129;01mand\u001b[39;00m win32\u001b[38;5;241m.\u001b[39mGetLastError() \u001b[38;5;129;01mnot\u001b[39;00m \u001b[38;5;129;01min\u001b[39;00m (win32\u001b[38;5;241m.\u001b[39mERROR_SUCCESS, win32\u001b[38;5;241m.\u001b[39mERROR_IO_PENDING):\n\u001b[1;32m--> 317\u001b[0m         \u001b[38;5;28;01mraise\u001b[39;00m SerialException(\u001b[38;5;124m\"\u001b[39m\u001b[38;5;124mWriteFile failed (\u001b[39m\u001b[38;5;132;01m{!r}\u001b[39;00m\u001b[38;5;124m)\u001b[39m\u001b[38;5;124m\"\u001b[39m\u001b[38;5;241m.\u001b[39mformat(ctypes\u001b[38;5;241m.\u001b[39mWinError()))\n\u001b[0;32m    319\u001b[0m     \u001b[38;5;66;03m# Wait for the write to complete.\u001b[39;00m\n\u001b[0;32m    320\u001b[0m     \u001b[38;5;66;03m#~ win32.WaitForSingleObject(self._overlapped_write.hEvent, win32.INFINITE)\u001b[39;00m\n\u001b[0;32m    321\u001b[0m     win32\u001b[38;5;241m.\u001b[39mGetOverlappedResult(\u001b[38;5;28mself\u001b[39m\u001b[38;5;241m.\u001b[39m_port_handle, \u001b[38;5;28mself\u001b[39m\u001b[38;5;241m.\u001b[39m_overlapped_write, ctypes\u001b[38;5;241m.\u001b[39mbyref(n), \u001b[38;5;28;01mTrue\u001b[39;00m)\n",
      "\u001b[1;31mSerialException\u001b[0m: WriteFile failed (PermissionError(13, '拒绝访问。', None, 5))"
     ]
    }
   ],
   "source": [
    "#数码板 将电脑的日期和时间实时更新到数码屏上：日期显示月与日，例如“03-21”；时间显示小时和分钟，例如“14.30”；二者交替显示，每2秒钟切换一次。\n",
    "import serial\n",
    "import datetime\n",
    "import time\n",
    "\n",
    "# 设置串口参数\n",
    "port = 'COM3'  \n",
    "baudrate = 9600  \n",
    "\n",
    "# 打开串口\n",
    "ser = serial.Serial(port, baudrate)\n",
    "\n",
    "def send_command(command):\n",
    "    # 发送命令到数码板\n",
    "    ser.write(command.encode())\n",
    "\n",
    "try:\n",
    "    while True:\n",
    "        # 获取当前日期和时间\n",
    "        now = datetime.datetime.now()\n",
    "\n",
    "        # 格式化日期和时间字符串\n",
    "        date_str = now.strftime(\"%m-%d\")\n",
    "        time_str = now.strftime(\"%H.%M\")\n",
    "\n",
    "        # 发送日期和时间到数码板\n",
    "        send_command(\"$001,\" + date_str + \"#\")\n",
    "        time.sleep(2)  # 等待2秒\n",
    "\n",
    "        send_command(\"$001,#\")  # 清空显示\n",
    "        time.sleep(0.1)  # 等待0.1秒\n",
    "\n",
    "        send_command(\"$001,\" + time_str + \"#\")\n",
    "        time.sleep(2)  # 等待2秒\n",
    "\n",
    "        send_command(\"$001,#\")  # 清空显示\n",
    "        time.sleep(0.1)  # 等待0.1秒\n",
    "\n",
    "except KeyboardInterrupt:\n",
    "    # 捕获Ctrl+C中断信号，关闭串口并退出程序\n",
    "    ser.close()"
   ]
  }
 ],
 "metadata": {
  "kernelspec": {
   "display_name": "base",
   "language": "python",
   "name": "python3"
  },
  "language_info": {
   "codemirror_mode": {
    "name": "ipython",
    "version": 3
   },
   "file_extension": ".py",
   "mimetype": "text/x-python",
   "name": "python",
   "nbconvert_exporter": "python",
   "pygments_lexer": "ipython3",
   "version": "3.9.18"
  }
 },
 "nbformat": 4,
 "nbformat_minor": 2
}
