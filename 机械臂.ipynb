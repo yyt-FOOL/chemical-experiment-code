{
 "cells": [
  {
   "cell_type": "code",
   "execution_count": 1,
   "metadata": {},
   "outputs": [],
   "source": [
    "from robotCMD import *"
   ]
  },
  {
   "cell_type": "code",
   "execution_count": 2,
   "metadata": {},
   "outputs": [
    {
     "name": "stderr",
     "output_type": "stream",
     "text": [
      "ERROR: Could not find a version that satisfies the requirement robotCMD (from versions: none)\n",
      "ERROR: No matching distribution found for robotCMD\n"
     ]
    }
   ],
   "source": [
    "#链接机械臂\n",
    "robot_ctrl = RobotCtrl(server_ip='192.168.1.2')"
   ]
  },
  {
   "cell_type": "code",
   "execution_count": null,
   "metadata": {},
   "outputs": [],
   "source": [
    "#夹爪的打开与关闭\n",
    "#关闭：\n",
    "robot_ctrl.tool_io_out(1, 0)\n",
    "robot_ctrl.tool_io_out(2, 0)\n",
    "#小开度：\n",
    "robot_ctrl.tool_io_out(1, 1)\n",
    "robot_ctrl.tool_io_out(2, 0)\n",
    "#中开度：\n",
    "robot_ctrl.tool_io_out(1, 0)\n",
    "robot_ctrl.tool_io_out(2, 1)\n",
    "#大开度：\n",
    "robot_ctrl.tool_io_out(1, 1)\n",
    "robot_ctrl.tool_io_out(2, 1)\n"
   ]
  },
  {
   "cell_type": "code",
   "execution_count": null,
   "metadata": {},
   "outputs": [],
   "source": [
    "#牵引复现\n",
    "robot_ctrl.replay(n, speed)#n为所保存的牵引号，speed为设定的速度（不超过100）"
   ]
  },
  {
   "cell_type": "code",
   "execution_count": null,
   "metadata": {},
   "outputs": [],
   "source": [
    "#其他移动指令，速度设置为200以内，加速度设置为100以内\n",
    "robot_ctrl.movej(j1,j2,j3,j4,j5,j6,v,a)#以关节移动\n",
    "robot_ctrl.movel(x,y,z,rx,ry,rz,v,a)#以坐标移动\n"
   ]
  },
  {
   "cell_type": "code",
   "execution_count": null,
   "metadata": {},
   "outputs": [],
   "source": [
    "#关闭链接\n",
    "robot_ctrl.close()"
   ]
  }
 ],
 "metadata": {
  "kernelspec": {
   "display_name": "Python 3",
   "language": "python",
   "name": "python3"
  },
  "language_info": {
   "codemirror_mode": {
    "name": "ipython",
    "version": 3
   },
   "file_extension": ".py",
   "mimetype": "text/x-python",
   "name": "python",
   "nbconvert_exporter": "python",
   "pygments_lexer": "ipython3",
   "version": "3.10.9"
  }
 },
 "nbformat": 4,
 "nbformat_minor": 2
}
