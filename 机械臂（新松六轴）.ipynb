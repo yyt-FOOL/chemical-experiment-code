{
 "cells": [
  {
   "cell_type": "code",
   "execution_count": null,
   "metadata": {},
   "outputs": [],
   "source": [
    "from robotCMD import *\n",
    "import time\n",
    "#连接2000端口\n",
    "#调用函数\n",
    "robot_ctrl.movej(-63.562,-14.164,-128.168,-37.240,-64.291,-180.197,30,90)#回到“Home”点\n",
    "robot_ctrl.tool_io_out(1,1)#打开夹爪\n",
    "robot_ctrl.tool_io_out(2,1)\n",
    "robot_ctrl.movel(189.31,446.26,171.89,-89.60,-0.04,0.67,100,500)#经停点1\n",
    "robot_ctrl.movel(189.29,446.27,72.99,-91.27,-0.02,0.65,100,500)#烧杯所在的初始位置\n",
    "robot_ctrl.tool_io_out(1,0)#关闭夹爪，成功抓取烧杯\n",
    "robot_ctrl.tool_io_out(2,0)\n",
    "time.sleep(1)\n",
    "robot_ctrl.movel(189.31,446.26,171.89,-89.60,-0.04,0.67,100,500)#经停点1\n",
    "robot_ctrl.movel(189.29,446.27,72.99,-91.27,-0.02,0.65,100,500)#经停点2\n",
    "robot_ctrl.movel(11.44,777.46,171.88,-89.60,-0.04,0.65,100,500)#经停点3\n",
    "robot_ctrl.movel(11.44,777.38,4.97,-89.60,-0.04,0.65,100,500)#目标位置\n",
    "robot_ctrl.tool_io_out(1,1)#打开夹爪\n",
    "robot_ctrl.tool_io_out(2,1)\n",
    "time.sleep(1)\n",
    "robot_ctrl.movel(11.44,777.46,171.88,-89.60,-0.04,0.65,100,500)#回到经停点3\n",
    "robot_ctrl.movej(-63.562,-14.164,-128.168,-37.240,-64.291,-180.197,30,90)#回到“Home点”\n",
    "#关闭2000端口\n",
    "robot_ctrl.close()\n"
   ]
  }
 ],
 "metadata": {
  "language_info": {
   "name": "python"
  }
 },
 "nbformat": 4,
 "nbformat_minor": 2
}
