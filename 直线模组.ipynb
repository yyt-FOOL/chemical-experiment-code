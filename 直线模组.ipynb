{
 "cells": [
  {
   "cell_type": "code",
   "execution_count": 1,
   "metadata": {},
   "outputs": [],
   "source": [
    "import time \n",
    "import serial\n",
    "import modbus_crc"
   ]
  },
  {
   "cell_type": "code",
   "execution_count": 2,
   "metadata": {},
   "outputs": [],
   "source": [
    "#初始化串口\n",
    "def main():\n",
    "    global s\n",
    "    com=input(\"请输入串口号：\")\n",
    "    port=eval(input(\"请输入波特率：\"))\n",
    "    s=serial.Serial(com,port)\n",
    "\n",
    "#创建添加ModbusCRC16校验码的函数\n",
    "def add_crc(data):\n",
    "    data_to_send=data+bytes(modbus_crc.crc16(data))\n",
    "    return data_to_send\n",
    "\n",
    "#改变速度\n",
    "def change_speed():\n",
    "    speed=eval(input(\"如果选择默认速度则输入0,否则请输入设置速度:\"))\n",
    "    if not speed:\n",
    "        s.flushInput()\n",
    "        data_speed=[0x01,0x06,0x00,0x05,0x00,0xFF,0xD9,0x8B]\n",
    "        s.write(bytes(data_speed))\n",
    "        time.sleep(1)\n",
    "    else:\n",
    "        s.flushInput()\n",
    "        data_speed=[0x01,0x06,0x00,0x05]\n",
    "        speed=int(speed)\n",
    "        data_speed.append(speed//256)\n",
    "        data_speed.append(speed%256)\n",
    "        data_speed=bytes(data_speed)\n",
    "        data_speed_to_send=add_crc(data_speed)\n",
    "        s.write(data_speed_to_send)\n",
    "        time.sleep(1)\n",
    "\n",
    "#定义一个将距离换算为对应脉冲的函数\n",
    "def transform_distance(distance,data_distance):\n",
    "    k=1\n",
    "    peak_number=int(distance/k)\n",
    "    data_distance.append(peak_number//256)\n",
    "    data_distance.append(peak_number%256)\n",
    "    data_distance=bytes(data_distance)\n",
    "    data_distance_to_send=add_crc(data_distance)\n",
    "    return data_distance_to_send\n",
    "\n",
    "#改变距离\n",
    "def change_distance():\n",
    "    distance=int(input(\"请输入移动距离:\"))\n",
    "    mode_selection=input(\"请输入正转或反转：\")\n",
    "    #data_distance=[0x01,0x06,0x00,0x07,0x00,0xFF,0x78,0x4B]\n",
    "    data_distance=[0x01,0x06,0x00,0x07]\n",
    "    \n",
    "    if mode_selection==\"正转\":\n",
    "        s.flushInput()\n",
    "        data_zhengzhuan=[0x01,0x06,0x00,0x00,0x00,0x01,0x48,0x0A]\n",
    "        s.write(bytes(data_zhengzhuan))\n",
    "        time.sleep(1)\n",
    "        data_distance_to_send=transform_distance(distance,data_distance)\n",
    "        s.write(data_distance_to_send)\n",
    "        \n",
    "    else:\n",
    "        s.flushInput()\n",
    "        data_fanzhuan=[0x01,0x06,0x00,0x01,0x00,0x01,0x19,0xCA]\n",
    "        s.write(bytes(data_fanzhuan))\n",
    "        time.sleep(1)\n",
    "        data_distance_to_send=transform_distance(distance,data_distance)\n",
    "        s.write(data_distance_to_send)\n",
    "\n",
    "#停止运动\n",
    "def stop_move():\n",
    "    yes_or_no=eval(input(\"如果要停止直线模组前进:请输入1;否则,请输入0\"))\n",
    "    if yes_or_no:\n",
    "        data_close=[0x01,0x06,0x00,0x02,0x00,0x01,0xE9,0xCA]"
   ]
  },
  {
   "cell_type": "code",
   "execution_count": 3,
   "metadata": {},
   "outputs": [],
   "source": [
    "#初始化串口\n",
    "main()"
   ]
  },
  {
   "cell_type": "code",
   "execution_count": 4,
   "metadata": {},
   "outputs": [],
   "source": [
    "#设置速度\n",
    "change_speed()"
   ]
  },
  {
   "cell_type": "code",
   "execution_count": 5,
   "metadata": {},
   "outputs": [],
   "source": [
    "#设置距离\n",
    "change_distance()"
   ]
  },
  {
   "cell_type": "code",
   "execution_count": 6,
   "metadata": {},
   "outputs": [],
   "source": [
    "#停止运动\n",
    "stop_move()"
   ]
  }
 ],
 "metadata": {
  "kernelspec": {
   "display_name": "base",
   "language": "python",
   "name": "python3"
  },
  "language_info": {
   "codemirror_mode": {
    "name": "ipython",
    "version": 3
   },
   "file_extension": ".py",
   "mimetype": "text/x-python",
   "name": "python",
   "nbconvert_exporter": "python",
   "pygments_lexer": "ipython3",
   "version": "3.9.18"
  }
 },
 "nbformat": 4,
 "nbformat_minor": 2
}
