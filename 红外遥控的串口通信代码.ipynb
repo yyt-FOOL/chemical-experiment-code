{
 "cells": [
  {
   "cell_type": "code",
   "execution_count": 1,
   "metadata": {},
   "outputs": [],
   "source": [
    "import serial\n",
    "import time\n",
    "from datetime import datetime\n",
    "import itertools"
   ]
  },
  {
   "cell_type": "code",
   "execution_count": 2,
   "metadata": {},
   "outputs": [],
   "source": [
    "#初始化串口信息\n",
    "port=\"COM3\"\n",
    "byts=9600\n",
    "s=serial.Serial(port,byts)"
   ]
  },
  {
   "cell_type": "code",
   "execution_count": 3,
   "metadata": {},
   "outputs": [],
   "source": [
    "#通过PC控制红外遥控，发射红外信号\n",
    "s.flushInput()\n",
    "signal_to_send=[0xA1,0XF1,0x1C,0x2F,0x33]\n",
    "s.write(bytes(signal_to_send))\n",
    "time.sleep(2)"
   ]
  },
  {
   "cell_type": "code",
   "execution_count": null,
   "metadata": {},
   "outputs": [],
   "source": [
    "#另一个红外遥控的接收头接收到信号，并传输给另一台PC,打开继电器，并读取继电器工作状态\n",
    "infor=s.read(1)#读取第一个字节\n",
    "print(infor.hex())\n",
    "if infor.hex()==\"1c\":\n",
    "    port1=\"COM4\"\n",
    "    byts1=115200\n",
    "    s1=serial.Serial(port1,byts1)#接收到红外信号后，初始化与继电器相连的串口\n",
    "    #打开继电器\n",
    "    s1.flushInput()\n",
    "    open=[0xFF,0x05,0x00,0x00,0xFF,0x00,0x99,0xE4]\n",
    "    s1.write(bytes(open))\n",
    "    recv=s.read(8)\n",
    "    recv_hex=recv.hex()\n",
    "    print(recv_hex)\n",
    "    if str(recv_hex)==\"ff050000ff0099e4\":\n",
    "        print(\"执行命令正常\")\n",
    "    else:\n",
    "        print(\"执行命令失误\")\n",
    "    time.sleep(2)\n",
    "    #读取继电器状态\n",
    "    s1.flushInput()\n",
    "    state=[0xFF,0x01,0x00,0x00,0x00,0x08,0x28,0x12]\n",
    "    s1.write(bytes(state))\n",
    "    recv=s.read(6)\n",
    "    recv_hex=recv.hex()\n",
    "    print(\"当前继电器状态为:{}\".format(\"开\" if recv[3] else '关'))\n",
    "time.sleep(2)\n"
   ]
  },
  {
   "cell_type": "code",
   "execution_count": null,
   "metadata": {},
   "outputs": [],
   "source": [
    "#通过PC控制红外遥控，发射红外信号\n",
    "s.flushInput()\n",
    "signal_to_send=[0xA1,0XF1,0x1C,0x2F,0x33]\n",
    "s.write(bytes(signal_to_send))\n",
    "time.sleep(2)"
   ]
  },
  {
   "cell_type": "code",
   "execution_count": null,
   "metadata": {},
   "outputs": [],
   "source": [
    "#另一个红外遥控的接收头接收到信号，并传输给另一台PC,关闭继电器，并读取继电器工作状态\n",
    "infor=s.read(1)#读取第一个字节\n",
    "print(infor.hex())\n",
    "if infor.hex()==\"1c\":\n",
    "    port1=\"COM4\"\n",
    "    byts1=115200\n",
    "    s1=serial.Serial(port1,byts1)#接收到红外信号后，初始化与继电器相连的串口\n",
    "    #关闭继电器\n",
    "    s1.flushInput()\n",
    "    open=[0xFF,0x05,0x00,0x00,0xFF,0x00,0x99,0xE4]\n",
    "    s1.write(bytes(open))\n",
    "    recv=s.read(8)\n",
    "    recv_hex=recv.hex()\n",
    "    print(recv_hex)\n",
    "    if str(recv_hex)==\"ff050000ff0099e4\":\n",
    "        print(\"执行命令正常\")\n",
    "    else:\n",
    "        print(\"执行命令失误\")\n",
    "    time.sleep(2)\n",
    "    #读取继电器状态\n",
    "    s1.flushInput()\n",
    "    state=[0xFF,0x01,0x00,0x00,0x00,0x08,0x28,0x12]\n",
    "    s1.write(bytes(state))\n",
    "    recv=s.read(6)\n",
    "    recv_hex=recv.hex()\n",
    "    print(\"当前继电器状态为:{}\".format(\"开\" if recv[3] else '关'))\n",
    "time.sleep(2)"
   ]
  },
  {
   "cell_type": "code",
   "execution_count": null,
   "metadata": {},
   "outputs": [],
   "source": [
    "#关闭串口\n",
    "s.close()\n",
    "s1.close()"
   ]
  }
 ],
 "metadata": {
  "kernelspec": {
   "display_name": "base",
   "language": "python",
   "name": "python3"
  },
  "language_info": {
   "codemirror_mode": {
    "name": "ipython",
    "version": 3
   },
   "file_extension": ".py",
   "mimetype": "text/x-python",
   "name": "python",
   "nbconvert_exporter": "python",
   "pygments_lexer": "ipython3",
   "version": "3.9.18"
  }
 },
 "nbformat": 4,
 "nbformat_minor": 2
}
