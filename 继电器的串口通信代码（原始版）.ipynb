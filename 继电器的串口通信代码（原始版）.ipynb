{
 "cells": [
  {
   "cell_type": "code",
   "execution_count": 1,
   "metadata": {},
   "outputs": [],
   "source": [
    "import serial\n",
    "import time"
   ]
  },
  {
   "cell_type": "code",
   "execution_count": 2,
   "metadata": {},
   "outputs": [],
   "source": [
    "#初始化串口\n",
    "port=\"COM3\"\n",
    "byts=9600\n",
    "s=serial.Serial(port,byts)"
   ]
  },
  {
   "cell_type": "code",
   "execution_count": 3,
   "metadata": {},
   "outputs": [
    {
     "name": "stdout",
     "output_type": "stream",
     "text": [
      "ff050000ff0099e4\n",
      "执行命令正常\n"
     ]
    }
   ],
   "source": [
    "#打开继电器（手动模式）\n",
    "s.flushInput()\n",
    "open=[0xFF,0x05,0x00,0x00,0xFF,0x00,0x99,0xE4]\n",
    "s.write(bytes(open))\n",
    "recv=s.read(8)\n",
    "recv_hex=recv.hex()\n",
    "print(recv_hex)\n",
    "if str(recv_hex)==\"ff050000ff0099e4\":\n",
    "    print(\"执行命令正常\")\n",
    "else:\n",
    "    print(\"执行命令失误\")"
   ]
  },
  {
   "cell_type": "code",
   "execution_count": 4,
   "metadata": {},
   "outputs": [
    {
     "name": "stdout",
     "output_type": "stream",
     "text": [
      "ff010101a1a0\n",
      "当前继电器状态为:开\n"
     ]
    }
   ],
   "source": [
    "#读取继电器状态\n",
    "s.flushInput()\n",
    "state=[0xFF,0x01,0x00,0x00,0x00,0x08,0x28,0x12]\n",
    "s.write(bytes(state))\n",
    "recv=s.read(6)\n",
    "recv_hex=recv.hex()\n",
    "print(recv_hex)\n",
    "print(\"当前继电器状态为:{}\".format(\"开\" if recv[3] else '关'))\n"
   ]
  },
  {
   "cell_type": "code",
   "execution_count": 5,
   "metadata": {},
   "outputs": [
    {
     "name": "stdout",
     "output_type": "stream",
     "text": [
      "ff0500000000d814\n",
      "执行命令正常\n"
     ]
    }
   ],
   "source": [
    "#关闭继电器（手动模式）\n",
    "s.flushInput()\n",
    "close=[0xFF,0x05,0x00,0x00,0x00,0x00,0xD8,0x14]\n",
    "s.write(bytes(close))\n",
    "recv=s.read(8)\n",
    "recv_hex=recv.hex()\n",
    "print(recv_hex)\n",
    "if str(recv_hex)==\"ff0500000000d814\":\n",
    "    print(\"执行命令正常\")\n",
    "else:\n",
    "    print(\"执行命令失误\")"
   ]
  },
  {
   "cell_type": "code",
   "execution_count": 6,
   "metadata": {},
   "outputs": [
    {
     "name": "stdout",
     "output_type": "stream",
     "text": [
      "ff0101006060\n",
      "当前继电器状态为:关\n"
     ]
    }
   ],
   "source": [
    "#读取继电器状态\n",
    "s.flushInput()\n",
    "state=[0xFF,0x01,0x00,0x00,0x00,0x08,0x28,0x12 ]\n",
    "s.write(bytes(state))\n",
    "recv=s.read(6)\n",
    "recv_hex=recv.hex()\n",
    "print(recv_hex)\n",
    "print(\"当前继电器状态为:{}\".format(\"开\" if recv[3] else '关'))"
   ]
  },
  {
   "cell_type": "code",
   "execution_count": 7,
   "metadata": {},
   "outputs": [],
   "source": [
    "#关闭串口\n",
    "s.flushInput()\n",
    "s.close()"
   ]
  }
 ],
 "metadata": {
  "kernelspec": {
   "display_name": "base",
   "language": "python",
   "name": "python3"
  },
  "language_info": {
   "codemirror_mode": {
    "name": "ipython",
    "version": 3
   },
   "file_extension": ".py",
   "mimetype": "text/x-python",
   "name": "python",
   "nbconvert_exporter": "python",
   "pygments_lexer": "ipython3",
   "version": "3.9.18"
  }
 },
 "nbformat": 4,
 "nbformat_minor": 2
}
