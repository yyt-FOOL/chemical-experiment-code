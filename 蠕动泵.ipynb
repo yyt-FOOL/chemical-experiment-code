{
 "cells": [
  {
   "cell_type": "code",
   "execution_count": 1,
   "metadata": {},
   "outputs": [],
   "source": [
    "from serial import Serial\n",
    "import time\n",
    "import modbus_crc\n",
    "ser = Serial(port='COM13', baudrate=9600)"
   ]
  },
  {
   "cell_type": "code",
   "execution_count": 2,
   "metadata": {},
   "outputs": [],
   "source": [
    "def add_crc(data):\n",
    "    data_to_send=data+bytes(modbus_crc.crc16(data))\n",
    "    return data_to_send\n",
    "def change_speed(speed):\n",
    "    ser.flushInput()\n",
    "    data_speed=[0x01,0x06,0x00,0x02]\n",
    "    data_speed.append(speed*10//256)\n",
    "    data_speed.append(speed*10%256)\n",
    "    data_speed_to_send=add_crc(bytes(data_speed))\n",
    "    ser.write(data_speed_to_send)#设置速度\n",
    "    time.sleep(1)\n",
    "    data_to_send=[0x01,0x06,0x00,0x00,0x00,0x01,0x48,0x0A]\n",
    "    ser.write(data_to_send)#开启蠕动泵\n",
    "def main():\n",
    "    speed=eval(input(\"请输入转速：\"))\n",
    "    change_speed(speed)\n",
    "main()                                                                                                                                                                                                                                                                                                                                                                                                                                                                                                                                                                                                                                                                                                                                                                                                                                                                                                                                                                                                                                                                                                                                                                                                                                                                                                                                                                                                                                                                                                                                                                                                                                                                                                                                                                                                                                                                              "
   ]
  }
 ],
 "metadata": {
  "kernelspec": {
   "display_name": "Python 3",
   "language": "python",
   "name": "python3"
  },
  "language_info": {
   "codemirror_mode": {
    "name": "ipython",
    "version": 3
   },
   "file_extension": ".py",
   "mimetype": "text/x-python",
   "name": "python",
   "nbconvert_exporter": "python",
   "pygments_lexer": "ipython3",
   "version": "3.9.1"
  }
 },
 "nbformat": 4,
 "nbformat_minor": 2
}
