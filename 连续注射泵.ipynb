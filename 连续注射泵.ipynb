{
 "cells": [
  {
   "cell_type": "code",
   "execution_count": 1,
   "metadata": {},
   "outputs": [],
   "source": [
    "from serial import Serial\n",
    "import time\n",
    "import modbus_crc\n",
    "ser = Serial(port='COM13', baudrate=9600)"
   ]
  },
  {
   "cell_type": "code",
   "execution_count": 3,
   "metadata": {},
   "outputs": [],
   "source": [
    "def add_crc(data):\n",
    "        data_to_send=data+bytes(modbus_crc.crc16(data))\n",
    "        return data_to_send\n",
    "def transform_distance(distance,data_distance):\n",
    "    data_distance.append(distance//256)\n",
    "    data_distance.append(distance%256)\n",
    "    data_distance_to_send=add_crc(bytes(data_distance))\n",
    "    return data_distance_to_send\n",
    "def chouqu():\n",
    "    ser.flushInput()\n",
    "    distance_=eval(input(\"请输入抽取体积(250代表2ml)：\"))\n",
    "    data_distance=[0x03,0x06,0x00,0x07]\n",
    "    data_distance_to_send=transform_distance(distance_,data_distance)\n",
    "    ser.write(data_distance_to_send)\n",
    "    time.sleep(1)\n",
    "    data_speed=[0x03,0x06,0x00,0x05,0x00,0x54]\n",
    "    data_speed_to_send=add_crc(bytes(data_speed))\n",
    "    ser.write(data_speed_to_send)\n",
    "    time.sleep(1)\n",
    "    data_zhengzhuan=[0x03,0x06,0x00,0x00,0x00,0x01]\n",
    "    data_zhengzhuan_to_send=add_crc(bytes(data_zhengzhuan))\n",
    "    ser.write(bytes(data_zhengzhuan_to_send))\n",
    "def zhushe():\n",
    "    distance_=eval(input(\"请输入注射体积(250代表2ml):\"))\n",
    "    data_distance=[0x03,0x06,0x00,0x07]\n",
    "    data_distance_to_send=transform_distance(distance_,data_distance)\n",
    "    ser.write(data_distance_to_send)\n",
    "    time.sleep(1)\n",
    "    data_speed=[0x03,0x06,0x00,0x05,0x00,0x54]\n",
    "    data_speed_to_send=add_crc(bytes(data_speed))\n",
    "    ser.write(data_speed_to_send)\n",
    "    time.sleep(1)\n",
    "    data_fanzhuan=[0x03,0x06,0x00,0x01,0x00,0x01]\n",
    "    data_fanzhuan_to_send=add_crc(bytes(data_fanzhuan))\n",
    "    ser.write(bytes(data_fanzhuan_to_send))\n"
   ]
  },
  {
   "cell_type": "code",
   "execution_count": 5,
   "metadata": {},
   "outputs": [],
   "source": [
    "chouqu()"
   ]
  },
  {
   "cell_type": "code",
   "execution_count": 4,
   "metadata": {},
   "outputs": [],
   "source": [
    "zhushe()"
   ]
  }
 ],
 "metadata": {
  "kernelspec": {
   "display_name": "Python 3",
   "language": "python",
   "name": "python3"
  },
  "language_info": {
   "codemirror_mode": {
    "name": "ipython",
    "version": 3
   },
   "file_extension": ".py",
   "mimetype": "text/x-python",
   "name": "python",
   "nbconvert_exporter": "python",
   "pygments_lexer": "ipython3",
   "version": "3.9.1"
  }
 },
 "nbformat": 4,
 "nbformat_minor": 2
}
